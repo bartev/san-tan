{
 "cells": [
  {
   "cell_type": "markdown",
   "metadata": {
    "ein.tags": [
     "worksheet-0"
    ],
    "slideshow": {
     "slide_type": "-"
    }
   },
   "source": [
    "# Logic Gate - Class inheritance"
   ]
  },
  {
   "cell_type": "code",
   "execution_count": 2,
   "metadata": {
    "autoscroll": "json-false",
    "collapsed": false,
    "ein.tags": [
     "worksheet-0"
    ],
    "slideshow": {
     "slide_type": "-"
    }
   },
   "outputs": [
    {
     "name": "stdout",
     "output_type": "stream",
     "text": [
      "Enter Pin A input for gate G1 -->0\n",
      "Enter Pin B input for gate G1 -->1\n"
     ]
    }
   ],
   "source": [
    "# %load LogicGate\n",
    "# http://interactivepython.org/runestone/static/pythonds/Introduction/ObjectOrientedProgramminginPythonDefiningClasses.html\n",
    "\n",
    "class LogicGate:\n",
    "    def __init__(self, n):\n",
    "        self.label = n\n",
    "        self.output = None\n",
    "\n",
    "    def getLabel(self):\n",
    "        return self.label\n",
    "\n",
    "    def getOutput(self):\n",
    "        self.output = self.performGateLogic()\n",
    "        return self.output\n",
    "\n",
    "class BinaryGate(LogicGate):\n",
    "\n",
    "    def __init__(self, n):\n",
    "        LogicGate.__init__(self, n)\n",
    "\n",
    "        self.pinA = None\n",
    "        self.pinB = None\n",
    "\n",
    "    def getPinA(self):\n",
    "        if self.pinA == None:\n",
    "            input_str = 'Enter Pin A input for gate {} -->'\n",
    "            return int(input(input_str.format(self.getLabel())))\n",
    "        else:\n",
    "            return self.pinA.getFrom().getOutput()\n",
    "\n",
    "    def getPinB(self):\n",
    "        if self.pinB == None:\n",
    "            input_str = 'Enter Pin B input for gate {} -->'\n",
    "            return int(input(input_str.format(self.getLabel())))\n",
    "        else:\n",
    "            return self.pinB.getFrom().getOutput()\n",
    "\n",
    "    def setNextPin(self, source):\n",
    "        if self.pinA == None:\n",
    "            self.pinA = source\n",
    "        else:\n",
    "            if self.pinB == None:\n",
    "                self.pinB = source\n",
    "            else:\n",
    "                raise RuntimeError('Cannont Connect: NO EMPTY PINS on this gate')\n",
    "\n",
    "\n",
    "\n",
    "class UnaryGate(LogicGate):\n",
    "\n",
    "    def __init__(self, n):\n",
    "        LogicGate.__init__(self, n)\n",
    "\n",
    "        self.pin = None\n",
    "\n",
    "    def getPin(self):\n",
    "        if self.pin == None:\n",
    "            input_str = 'Enter Pin input for gate {} -->'\n",
    "            return int(input(input_str.format(self.getLabel())))\n",
    "        else:\n",
    "            return self.pin.getFrom().getOutput()\n",
    "\n",
    "    def setNextPin(self, source):\n",
    "        if self.pin == None:\n",
    "            self.pin = source\n",
    "        else:\n",
    "            raise RuntimeError('Cannont Connect: NO EMPTY PINS on this gate')\n",
    "\n",
    "class AndGate(BinaryGate):\n",
    "    def __init__(self, n):\n",
    "        BinaryGate.__init__(self, n)\n",
    "\n",
    "    def performGateLogic(self):\n",
    "        a = self.getPinA()\n",
    "        b = self.getPinB()\n",
    "        res = 1 if a == 1 and b == 1 else 0\n",
    "        return res\n",
    "\n",
    "class OrGate(BinaryGate):\n",
    "    def __init__(self, n):\n",
    "        BinaryGate.__init__(self, n)\n",
    "\n",
    "    def performGateLogic(self):\n",
    "        a = self.getPinA()\n",
    "        b = self.getPinB()\n",
    "        res = 1 if a == 1 or b == 1 else 0\n",
    "        return res\n",
    "\n",
    "class NotGate (UnaryGate):\n",
    "    def __init__ (self, n):\n",
    "        UnaryGate.__init__ (self, n)\n",
    "\n",
    "    def performGateLogic (self):\n",
    "        a = self.getPin ()\n",
    "        res = 0 if a == 1 else 1\n",
    "        return res \n",
    "\n",
    "class Connector:\n",
    "    def __init__(self, fgate, tgate):\n",
    "        self.fromgate = fgate\n",
    "        self.togate = tgate\n",
    "        tgate.setNextPin (self)\n",
    "\n",
    "    def getFrom (self):\n",
    "        return self.fromgate\n",
    "\n",
    "    def getTo(self):\n",
    "        return self.togate\n",
    "\n",
    "def main():\n",
    "    g1 = AndGate ('G1')\n",
    "    g1.getOutput ()\n",
    "\n",
    "if __name__ == '__main__':\n",
    "    main()\n"
   ]
  },
  {
   "cell_type": "code",
   "execution_count": 3,
   "metadata": {
    "autoscroll": "json-false",
    "collapsed": false,
    "ein.tags": [
     "worksheet-0"
    ],
    "slideshow": {
     "slide_type": "-"
    }
   },
   "outputs": [],
   "source": [
    "g1 = AndGate('G1')\n",
    "g2 = AndGate('G2')\n",
    "g3 = AndGate('G3')\n",
    "g4 = AndGate('G4')\n",
    "c1 = Connector(g1, g3)\n",
    "c2 = Connector(g2, g3)\n",
    "c3 = Connector(g3, g4)"
   ]
  },
  {
   "cell_type": "code",
   "execution_count": 4,
   "metadata": {
    "autoscroll": "json-false",
    "collapsed": false,
    "ein.tags": [
     "worksheet-0"
    ],
    "slideshow": {
     "slide_type": "-"
    }
   },
   "outputs": [
    {
     "name": "stdout",
     "output_type": "stream",
     "text": [
      "Enter Pin A input for gate G1 -->0\n",
      "Enter Pin B input for gate G1 -->1\n",
      "Enter Pin A input for gate G2 -->1\n",
      "Enter Pin B input for gate G2 -->1\n",
      "Enter Pin B input for gate G4 -->0\n"
     ]
    },
    {
     "data": {
      "text/plain": [
       "0"
      ]
     },
     "execution_count": 4,
     "metadata": {},
     "output_type": "execute_result"
    }
   ],
   "source": [
    "g4.getOutput()"
   ]
  },
  {
   "cell_type": "code",
   "execution_count": 0,
   "metadata": {
    "autoscroll": "json-false",
    "collapsed": false,
    "ein.tags": [
     "worksheet-0"
    ],
    "slideshow": {
     "slide_type": "-"
    }
   },
   "outputs": [],
   "source": []
  }
 ],
 "metadata": {
  "kernelspec": {
   "display_name": "Python 2",
   "language": "python",
   "name": "python2"
  },
  "language_info": {
   "codemirror_mode": {
    "name": "ipython",
    "version": 2
   },
   "file_extension": ".py",
   "mimetype": "text/x-python",
   "name": "python",
   "nbconvert_exporter": "python",
   "pygments_lexer": "ipython2",
   "version": "2.7.10"
  },
  "name": "Logic Gates - Class inheritance.ipynb"
 },
 "nbformat": 4,
 "nbformat_minor": 2
}
