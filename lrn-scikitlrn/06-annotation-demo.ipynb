{
 "cells": [
  {
   "cell_type": "markdown",
   "metadata": {
    "ein.tags": [
     "worksheet-0"
    ]
   },
   "source": [
    "# Annotation demo"
   ]
  },
  {
   "cell_type": "code",
   "execution_count": 2,
   "metadata": {
    "autoscroll": "json-false",
    "collapsed": false,
    "ein.tags": [
     "worksheet-0"
    ]
   },
   "outputs": [],
   "source": [
    "import matplotlib.pyplot as plt\n",
    "from matplotlib.patches import Ellipse\n",
    "import numpy as np"
   ]
  },
  {
   "cell_type": "code",
   "execution_count": 3,
   "metadata": {
    "autoscroll": "json-false",
    "collapsed": false,
    "ein.tags": [
     "worksheet-0"
    ]
   },
   "outputs": [
    {
     "data": {
      "text/plain": [
       "<matplotlib.figure.Figure at 0x10dc64450>"
      ]
     },
     "metadata": {},
     "output_type": "display_data"
    }
   ],
   "source": [
    "fig = plt.figure(1, figsize=(8, 5))\n",
    "ax = fig.add_subplot(111, autoscale_on=False, xlim=(-1, 5), ylim=(-4, 3))\n",
    "\n",
    "t = np.arange(0.0, 5.0, 0.01)\n",
    "s = np.cos(2*np.pi*t)\n",
    "line, = ax.plot(t, s, lw=3, color='purple')\n",
    "\n",
    "ax.annotate('arrowstyle', xy=(0, 1), xycoords='data',\n",
    "            xytext=(-50, 30), textcoords='offset points',\n",
    "            arrowprops=dict(arrowstyle=\"->\")\n",
    "            )\n",
    "\n",
    "ax.annotate('arc3', xy=(0.5, -1), xycoords='data',\n",
    "            xytext=(-30, -30), textcoords='offset points',\n",
    "            arrowprops=dict(arrowstyle=\"->\",\n",
    "                            connectionstyle=\"arc3,rad=.2\")\n",
    "                )\n",
    "\n",
    "ax.annotate('arc', xy=(1., 1), xycoords='data',\n",
    "            xytext=(-40, 30), textcoords='offset points',\n",
    "            arrowprops=dict(arrowstyle=\"->\",\n",
    "                            connectionstyle=\"arc,angleA=0,armA=30,rad=10\"),\n",
    "                )\n",
    "\n",
    "ax.annotate('arc', xy=(1.5, -1), xycoords='data',\n",
    "            xytext=(-40, -30), textcoords='offset points',\n",
    "            arrowprops=dict(arrowstyle=\"->\",\n",
    "                            connectionstyle=\"arc,angleA=0,armA=20,angleB=-90,armB=15,rad=7\"),\n",
    "            )\n",
    "\n",
    "ax.annotate('angle', xy=(2., 1), xycoords='data',\n",
    "            xytext=(-50, 30), textcoords='offset points',\n",
    "            arrowprops=dict(arrowstyle=\"->\",\n",
    "                            connectionstyle=\"angle,angleA=0,angleB=90,rad=10\"),\n",
    "            )\n",
    "\n",
    "ax.annotate('angle3', xy=(2.5, -1), xycoords='data',\n",
    "            xytext=(-50, -30), textcoords='offset points',\n",
    "            arrowprops=dict(arrowstyle=\"->\",\n",
    "                            connectionstyle=\"angle3,angleA=0,angleB=-90\"),\n",
    "            )\n",
    "\n",
    "ax.annotate('angle', xy=(3., 1), xycoords='data',\n",
    "            xytext=(-50, 30), textcoords='offset points',\n",
    "            bbox=dict(boxstyle=\"round\", fc=\"0.8\"),\n",
    "            arrowprops=dict(arrowstyle=\"->\",\n",
    "                            connectionstyle=\"angle,angleA=0,angleB=90,rad=10\"),\n",
    "            )\n",
    "\n",
    "ax.annotate('angle', xy=(3.5, -1), xycoords='data',\n",
    "            xytext=(-70, -60), textcoords='offset points',\n",
    "            size=20,\n",
    "            bbox=dict(boxstyle=\"round4,pad=.5\", fc=\"0.8\"),\n",
    "            arrowprops=dict(arrowstyle=\"->\",\n",
    "                            connectionstyle=\"angle,angleA=0,angleB=-90,rad=10\"),\n",
    "            )\n",
    "\n",
    "ax.annotate('angle', xy=(4., 1), xycoords='data',\n",
    "            xytext=(-50, 30), textcoords='offset points',\n",
    "            bbox=dict(boxstyle=\"round\", fc=\"0.8\"),\n",
    "            arrowprops=dict(arrowstyle=\"->\",\n",
    "                            shrinkA=0, shrinkB=10,\n",
    "                            connectionstyle=\"angle,angleA=0,angleB=90,rad=10\"),\n",
    "            )\n",
    "\n",
    "ann = ax.annotate('', xy=(4., 1.), xycoords='data',\n",
    "                  xytext=(4.5, -1), textcoords='data',\n",
    "                  arrowprops=dict(arrowstyle=\"<->\",\n",
    "                                  connectionstyle=\"bar\",\n",
    "                                  ec=\"k\",\n",
    "                                  shrinkA=5, shrinkB=5,\n",
    "                                  )\n",
    "                  )"
   ]
  },
  {
   "cell_type": "code",
   "execution_count": 4,
   "metadata": {
    "autoscroll": "json-false",
    "collapsed": false,
    "ein.tags": [
     "worksheet-0"
    ]
   },
   "outputs": [
    {
     "data": {
      "text/plain": [
       "<matplotlib.figure.Figure at 0x10dd20710>"
      ]
     },
     "metadata": {},
     "output_type": "display_data"
    }
   ],
   "source": [
    "fig = plt.figure(2)\n",
    "fig.clf()\n",
    "ax = fig.add_subplot(111, autoscale_on=False, xlim=(-1, 5), ylim=(-5, 3))\n",
    "\n",
    "el = Ellipse((2, -1), 0.5, 0.5)\n",
    "ax.add_patch(el)\n",
    "\n",
    "ax.annotate('$->$', xy=(2., -1), xycoords='data',\n",
    "            xytext=(-150, -140), textcoords='offset points',\n",
    "            bbox=dict(boxstyle=\"round\", fc=\"0.8\"),\n",
    "            arrowprops=dict(arrowstyle=\"->\",\n",
    "                            patchB=el,\n",
    "                            connectionstyle=\"angle,angleA=90,angleB=0,rad=10\"),\n",
    "            )\n",
    "\n",
    "ax.annotate('fancy', xy=(2., -1), xycoords='data',\n",
    "            xytext=(-100, 60), textcoords='offset points',\n",
    "            size=20,\n",
    "            # bbox=dict(boxstyle=\"round\", fc=\"0.8\"),\n",
    "            arrowprops=dict(arrowstyle=\"fancy\",\n",
    "                            fc=\"0.6\", ec=\"none\",\n",
    "                            patchB=el,\n",
    "                            connectionstyle=\"angle3,angleA=0,angleB=-90\"),\n",
    "            )\n",
    "\n",
    "ax.annotate('simple', xy=(2., -1), xycoords='data',\n",
    "            xytext=(100, 60), textcoords='offset points',\n",
    "            size=20,\n",
    "            # bbox=dict(boxstyle=\"round\", fc=\"0.8\"),\n",
    "            arrowprops=dict(arrowstyle=\"simple\",\n",
    "                            fc=\"0.6\", ec=\"none\",\n",
    "                            patchB=el,\n",
    "                            connectionstyle=\"arc3,rad=0.3\"),\n",
    "            )\n",
    "\n",
    "ax.annotate('wedge', xy=(2., -1), xycoords='data',\n",
    "            xytext=(-100, -100), textcoords='offset points',\n",
    "            size=20,\n",
    "            # bbox=dict(boxstyle=\"round\", fc=\"0.8\"),\n",
    "            arrowprops=dict(arrowstyle=\"wedge,tail_width=0.7\",\n",
    "                            fc=\"0.6\", ec=\"none\",\n",
    "                            patchB=el,\n",
    "                            connectionstyle=\"arc3,rad=-0.3\"),\n",
    "            )\n",
    "\n",
    "ann = ax.annotate('wedge', xy=(2., -1), xycoords='data',\n",
    "                  xytext=(0, -45), textcoords='offset points',\n",
    "                  size=20,\n",
    "                  bbox=dict(boxstyle=\"round\", fc=(1.0, 0.7, 0.7), ec=(1., .5, .5)),\n",
    "                  arrowprops=dict(arrowstyle=\"wedge,tail_width=1.\",\n",
    "                                  fc=(1.0, 0.7, 0.7), ec=(1., .5, .5),\n",
    "                                  patchA=None,\n",
    "                                  patchB=el,\n",
    "                                  relpos=(0.2, 0.8),\n",
    "                                  connectionstyle=\"arc3,rad=-0.1\"),\n",
    "                  )\n",
    "\n",
    "ann = ax.annotate('wedge', xy=(2., -1), xycoords='data',\n",
    "                  xytext=(35, 0), textcoords='offset points',\n",
    "                  size=20, va=\"center\",\n",
    "                  bbox=dict(boxstyle=\"round\", fc=(1.0, 0.7, 0.7), ec=\"none\"),\n",
    "                  arrowprops=dict(arrowstyle=\"wedge,tail_width=1.\",\n",
    "                                  fc=(1.0, 0.7, 0.7), ec=\"none\",\n",
    "                                  patchA=None,\n",
    "                                  patchB=el,\n",
    "                                  relpos=(0.2, 0.5),\n",
    "                                  )\n",
    "                  )\n"
   ]
  },
  {
   "cell_type": "code",
   "execution_count": null,
   "metadata": {
    "autoscroll": "json-false",
    "collapsed": false,
    "ein.tags": [
     "worksheet-0"
    ]
   },
   "outputs": [],
   "source": []
  }
 ],
 "metadata": {},
 "nbformat": 4,
 "nbformat_minor": 0
}
