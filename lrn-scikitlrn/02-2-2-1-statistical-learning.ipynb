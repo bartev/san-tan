{
 "cells": [
  {
   "cell_type": "markdown",
   "metadata": {
    "ein.tags": [
     "worksheet-0"
    ],
    "slideshow": {
     "slide_type": "-"
    }
   },
   "source": [
    "# 2.2.1 Statistical learning: the setting and the estimator object in scikit-learn"
   ]
  },
  {
   "cell_type": "markdown",
   "metadata": {
    "ein.tags": [
     "worksheet-0"
    ],
    "slideshow": {
     "slide_type": "-"
    }
   },
   "source": [
    "* Data in 2D arrays\n",
    "* 1st axis = samples axis\n",
    "* 2nd axis = features axis"
   ]
  },
  {
   "cell_type": "code",
   "execution_count": 2,
   "metadata": {
    "autoscroll": "json-false",
    "collapsed": false,
    "ein.tags": [
     "worksheet-0"
    ],
    "slideshow": {
     "slide_type": "-"
    }
   },
   "outputs": [
    {
     "data": {
      "text/plain": [
       "(150, 4)"
      ]
     },
     "execution_count": 2,
     "metadata": {},
     "output_type": "execute_result"
    }
   ],
   "source": [
    "from sklearn import datasets\n",
    "iris = datasets.load_iris()\n",
    "data = iris.data\n",
    "data.shape"
   ]
  },
  {
   "cell_type": "code",
   "execution_count": 6,
   "metadata": {
    "autoscroll": "json-false",
    "collapsed": false,
    "ein.tags": [
     "worksheet-0"
    ],
    "slideshow": {
     "slide_type": "-"
    }
   },
   "outputs": [
    {
     "data": {
      "text/plain": [
       "(1797, 8, 8)"
      ]
     },
     "execution_count": 6,
     "metadata": {},
     "output_type": "execute_result"
    }
   ],
   "source": [
    "digits = datasets.load_digits()\n",
    "digits.images.shape"
   ]
  },
  {
   "cell_type": "code",
   "execution_count": 7,
   "metadata": {
    "autoscroll": "json-false",
    "collapsed": false,
    "ein.tags": [
     "worksheet-0"
    ],
    "slideshow": {
     "slide_type": "-"
    }
   },
   "outputs": [],
   "source": [
    "import pylab as pl"
   ]
  },
  {
   "cell_type": "code",
   "execution_count": 10,
   "metadata": {
    "autoscroll": "json-false",
    "collapsed": false,
    "ein.tags": [
     "worksheet-0"
    ],
    "slideshow": {
     "slide_type": "-"
    }
   },
   "outputs": [
    {
     "data": {
      "image/png": "[encoded data removed]",
      "text/plain": [
       "<matplotlib.figure.Figure at 0x105fab7d0>"
      ]
     },
     "metadata": {},
     "output_type": "display_data"
    },
    {
     "data": {
      "text/plain": [
       "<matplotlib.image.AxesImage at 0x10608ed50>"
      ]
     },
     "execution_count": 10,
     "metadata": {},
     "output_type": "execute_result"
    }
   ],
   "source": [
    "pl.imshow(digits.images[-1], cmap=pl.cm.gray_r)\n"
   ]
  },
  {
   "cell_type": "code",
   "execution_count": 11,
   "metadata": {
    "autoscroll": "json-false",
    "collapsed": false,
    "ein.tags": [
     "worksheet-0"
    ],
    "slideshow": {
     "slide_type": "-"
    }
   },
   "outputs": [],
   "source": [
    "data = digits.images.reshape((digits.images.shape[0], -1))"
   ]
  },
  {
   "cell_type": "code",
   "execution_count": 12,
   "metadata": {
    "autoscroll": "json-false",
    "collapsed": false,
    "ein.tags": [
     "worksheet-0"
    ],
    "slideshow": {
     "slide_type": "-"
    }
   },
   "outputs": [
    {
     "data": {
      "text/plain": [
       "array([[  0.,   0.,   5., ...,   0.,   0.,   0.],\n",
       "       [  0.,   0.,   0., ...,  10.,   0.,   0.],\n",
       "       [  0.,   0.,   0., ...,  16.,   9.,   0.],\n",
       "       ..., \n",
       "       [  0.,   0.,   1., ...,   6.,   0.,   0.],\n",
       "       [  0.,   0.,   2., ...,  12.,   0.,   0.],\n",
       "       [  0.,   0.,  10., ...,  12.,   1.,   0.]])"
      ]
     },
     "execution_count": 12,
     "metadata": {},
     "output_type": "execute_result"
    }
   ],
   "source": [
    "data"
   ]
  },
  {
   "cell_type": "code",
   "execution_count": 20,
   "metadata": {
    "autoscroll": "json-false",
    "collapsed": false,
    "ein.tags": [
     "worksheet-0"
    ],
    "slideshow": {
     "slide_type": "-"
    }
   },
   "outputs": [
    {
     "data": {
      "text/plain": [
       "array([0, 1, 2])"
      ]
     },
     "execution_count": 20,
     "metadata": {},
     "output_type": "execute_result"
    }
   ],
   "source": [
    "import numpy as np\n",
    "from sklearn import datasets\n",
    "iris = datasets.load_iris()\n",
    "iris_X = iris.data\n",
    "iris_y = iris.target\n",
    "np.unique(iris_y)"
   ]
  },
  {
   "cell_type": "markdown",
   "metadata": {
    "ein.tags": [
     "worksheet-0"
    ],
    "slideshow": {
     "slide_type": "-"
    }
   },
   "source": [
    "## KNN classification example"
   ]
  },
  {
   "cell_type": "code",
   "execution_count": 21,
   "metadata": {
    "autoscroll": "json-false",
    "collapsed": false,
    "ein.tags": [
     "worksheet-0"
    ],
    "slideshow": {
     "slide_type": "-"
    }
   },
   "outputs": [],
   "source": [
    "# Split iris data into train and test data\n",
    "# A random permutation to split the data randomly\n",
    "np.random.seed(0)\n",
    "indices = np.random.permutation(len(iris_X))"
   ]
  },
  {
   "cell_type": "code",
   "execution_count": 23,
   "metadata": {
    "autoscroll": "json-false",
    "collapsed": false,
    "ein.tags": [
     "worksheet-0"
    ],
    "slideshow": {
     "slide_type": "-"
    }
   },
   "outputs": [],
   "source": [
    "iris_X_train = iris_X[indices[:-10]]\n",
    "iris_y_train = iris_y[indices[:-10]]\n",
    "iris_X_test = iris_X[indices[-10:]]\n",
    "iris_y_test = iris_y[indices[-10:]]"
   ]
  },
  {
   "cell_type": "code",
   "execution_count": 25,
   "metadata": {
    "autoscroll": "json-false",
    "collapsed": false,
    "ein.tags": [
     "worksheet-0"
    ],
    "slideshow": {
     "slide_type": "-"
    }
   },
   "outputs": [
    {
     "data": {
      "text/plain": [
       "KNeighborsClassifier(algorithm='auto', leaf_size=30, metric='minkowski',\n",
       "           metric_params=None, n_jobs=1, n_neighbors=5, p=2,\n",
       "           weights='uniform')"
      ]
     },
     "execution_count": 25,
     "metadata": {},
     "output_type": "execute_result"
    }
   ],
   "source": [
    "# Create and fit a nearest-neighbor classifier\n",
    "from sklearn.neighbors import KNeighborsClassifier\n",
    "\n",
    "knn = KNeighborsClassifier()\n",
    "knn.fit(iris_X_train, iris_y_train)"
   ]
  },
  {
   "cell_type": "code",
   "execution_count": 26,
   "metadata": {
    "autoscroll": "json-false",
    "collapsed": false,
    "ein.tags": [
     "worksheet-0"
    ],
    "slideshow": {
     "slide_type": "-"
    }
   },
   "outputs": [
    {
     "data": {
      "text/plain": [
       "array([1, 2, 1, 0, 0, 0, 2, 1, 2, 0])"
      ]
     },
     "execution_count": 26,
     "metadata": {},
     "output_type": "execute_result"
    }
   ],
   "source": [
    "knn.predict(iris_X_test)"
   ]
  },
  {
   "cell_type": "code",
   "execution_count": 27,
   "metadata": {
    "autoscroll": "json-false",
    "collapsed": false,
    "ein.tags": [
     "worksheet-0"
    ],
    "slideshow": {
     "slide_type": "-"
    }
   },
   "outputs": [
    {
     "data": {
      "text/plain": [
       "array([1, 1, 1, 0, 0, 0, 2, 1, 2, 0])"
      ]
     },
     "execution_count": 27,
     "metadata": {},
     "output_type": "execute_result"
    }
   ],
   "source": [
    "iris_y_test"
   ]
  },
  {
   "cell_type": "markdown",
   "metadata": {
    "ein.tags": [
     "worksheet-0"
    ],
    "slideshow": {
     "slide_type": "-"
    }
   },
   "source": [
    "## Linear model: from regression to sparcity"
   ]
  },
  {
   "cell_type": "markdown",
   "metadata": {
    "ein.tags": [
     "worksheet-0"
    ],
    "slideshow": {
     "slide_type": "-"
    }
   },
   "source": [
    "### Diabetes dataset"
   ]
  },
  {
   "cell_type": "code",
   "execution_count": 30,
   "metadata": {
    "autoscroll": "json-false",
    "collapsed": false,
    "ein.tags": [
     "worksheet-0"
    ],
    "slideshow": {
     "slide_type": "-"
    }
   },
   "outputs": [],
   "source": [
    "diabetes = datasets.load_diabetes()\n",
    "diabetes_X_train = diabetes.data[:-20]\n",
    "diabetes_X_test = diabetes.data[-20:]\n",
    "diabetes_y_train = diabetes.target[:-20]\n",
    "diabetes_y_test = diabetes.target[-20:]\n"
   ]
  },
  {
   "cell_type": "code",
   "execution_count": 32,
   "metadata": {
    "autoscroll": "json-false",
    "collapsed": false,
    "ein.tags": [
     "worksheet-0"
    ],
    "slideshow": {
     "slide_type": "-"
    }
   },
   "outputs": [
    {
     "data": {
      "text/plain": [
       "LinearRegression(copy_X=True, fit_intercept=True, n_jobs=1, normalize=False)"
      ]
     },
     "execution_count": 32,
     "metadata": {},
     "output_type": "execute_result"
    },
    {
     "name": "stderr",
     "output_type": "stream",
     "text": [
      "/Users/bartev/.virtualenvs/skl/lib/python2.7/site-packages/scipy/linalg/basic.py:884: RuntimeWarning: internal gelsd driver lwork query error, required iwork dimension not returned. This is likely the result of LAPACK bug 0038, fixed in LAPACK 3.2.2 (released July 21, 2010). Falling back to 'gelss' driver.\n",
      "  warnings.warn(mesg, RuntimeWarning)\n"
     ]
    }
   ],
   "source": [
    "from sklearn import linear_model\n",
    "regr = linear_model.LinearRegression()\n",
    "regr.fit(diabetes_X_train, diabetes_y_train)"
   ]
  },
  {
   "cell_type": "code",
   "execution_count": 38,
   "metadata": {
    "autoscroll": "json-false",
    "collapsed": false,
    "ein.tags": [
     "worksheet-0"
    ],
    "slideshow": {
     "slide_type": "-"
    }
   },
   "outputs": [
    {
     "name": "stdout",
     "output_type": "stream",
     "text": [
      "[  3.03499549e-01  -2.37639315e+02   5.10530605e+02   3.27736980e+02\n",
      "  -8.14131709e+02   4.92814588e+02   1.02848452e+02   1.84606489e+02\n",
      "   7.43519617e+02   7.60951722e+01]\n"
     ]
    }
   ],
   "source": [
    "print(regr.coef_)"
   ]
  },
  {
   "cell_type": "code",
   "execution_count": 39,
   "metadata": {
    "autoscroll": "json-false",
    "collapsed": false,
    "ein.tags": [
     "worksheet-0"
    ],
    "slideshow": {
     "slide_type": "-"
    }
   },
   "outputs": [
    {
     "data": {
      "text/plain": [
       "2004.5676026898218"
      ]
     },
     "execution_count": 39,
     "metadata": {},
     "output_type": "execute_result"
    }
   ],
   "source": [
    "# the mean square error\n",
    "np.mean((regr.predict(diabetes_X_test) - diabetes_y_test) **2)"
   ]
  },
  {
   "cell_type": "markdown",
   "metadata": {
    "ein.tags": [
     "worksheet-0"
    ],
    "slideshow": {
     "slide_type": "-"
    }
   },
   "source": [
    "explained variance score: 1 is perfect prediction\n",
    "and 0 means that there is no linear relationship\n",
    "between X and Y"
   ]
  },
  {
   "cell_type": "code",
   "execution_count": 40,
   "metadata": {
    "autoscroll": "json-false",
    "collapsed": false,
    "ein.tags": [
     "worksheet-0"
    ],
    "slideshow": {
     "slide_type": "-"
    }
   },
   "outputs": [
    {
     "data": {
      "text/plain": [
       "0.58507530226905724"
      ]
     },
     "execution_count": 40,
     "metadata": {},
     "output_type": "execute_result"
    }
   ],
   "source": [
    "regr.score(diabetes_X_test, diabetes_y_test)"
   ]
  },
  {
   "cell_type": "markdown",
   "metadata": {
    "ein.tags": [
     "worksheet-0"
    ],
    "slideshow": {
     "slide_type": "-"
    }
   },
   "source": [
    "### Shrinkage"
   ]
  },
  {
   "cell_type": "markdown",
   "metadata": {
    "ein.tags": [
     "worksheet-0"
    ],
    "slideshow": {
     "slide_type": "-"
    }
   },
   "source": [
    "if there are few data points per dimension, noise in the observations induces high variance"
   ]
  },
  {
   "cell_type": "code",
   "execution_count": 43,
   "metadata": {
    "autoscroll": "json-false",
    "collapsed": false,
    "ein.tags": [
     "worksheet-0"
    ],
    "slideshow": {
     "slide_type": "-"
    }
   },
   "outputs": [],
   "source": [
    "X = np.c_[0.5, 1].T\n",
    "y = [0.5, 1]"
   ]
  },
  {
   "cell_type": "code",
   "execution_count": 44,
   "metadata": {
    "autoscroll": "json-false",
    "collapsed": false,
    "ein.tags": [
     "worksheet-0"
    ],
    "slideshow": {
     "slide_type": "-"
    }
   },
   "outputs": [],
   "source": [
    "test = np.c_[0, 2].T\n",
    "regr = linear_model.LinearRegression()"
   ]
  },
  {
   "cell_type": "code",
   "execution_count": 45,
   "metadata": {
    "autoscroll": "json-false",
    "collapsed": false,
    "ein.tags": [
     "worksheet-0"
    ],
    "slideshow": {
     "slide_type": "-"
    }
   },
   "outputs": [
    {
     "data": {
      "image/png": "[encoded data removed]",
      "text/plain": [
       "<matplotlib.figure.Figure at 0x107b65c50>"
      ]
     },
     "metadata": {},
     "output_type": "display_data"
    }
   ],
   "source": [
    "import pylab as pl\n",
    "pl.figure\n",
    "\n",
    "np.random.seed(0)\n",
    "for _ in range(6):\n",
    "    this_X = 0.1 * np.random.normal(size = (2, 1)) + X\n",
    "    regr.fit(this_X, y)\n",
    "    pl.plot(test, regr.predict(test))\n",
    "    pl.scatter(this_X, y, s=3)"
   ]
  },
  {
   "cell_type": "code",
   "execution_count": 99,
   "metadata": {
    "autoscroll": "json-false",
    "collapsed": false,
    "ein.tags": [
     "worksheet-0"
    ],
    "slideshow": {
     "slide_type": "-"
    }
   },
   "outputs": [
    {
     "data": {
      "image/png": "[encoded data removed]",
      "text/plain": [
       "<matplotlib.figure.Figure at 0x108201e10>"
      ]
     },
     "metadata": {},
     "output_type": "display_data"
    }
   ],
   "source": [
    "regr = linear_model.Ridge(alpha = 0.1)\n",
    "pl.figure\n",
    "\n",
    "np.random.seed(0)\n",
    "for _ in range(6):\n",
    "    this_X = 0.1 * np.random.normal(size = (2, 1)) + X\n",
    "    regr.fit(this_X, y)\n",
    "    pl.plot(test, regr.predict(test))\n",
    "    # pl.scatter(this_X, y, s=3)\n"
   ]
  },
  {
   "cell_type": "code",
   "execution_count": 52,
   "metadata": {
    "autoscroll": "json-false",
    "collapsed": false,
    "ein.tags": [
     "worksheet-0"
    ],
    "slideshow": {
     "slide_type": "-"
    }
   },
   "outputs": [
    {
     "data": {
      "image/png": "[encoded data removed]",
      "text/plain": [
       "<matplotlib.figure.Figure at 0x107b0c3d0>"
      ]
     },
     "metadata": {},
     "output_type": "display_data"
    }
   ],
   "source": [
    "pl.figure()\n",
    "np.random.seed(0)\n",
    "for _ in range(6):\n",
    "    this_X = .1 * np.random.normal(size = (2, 1)) + X\n",
    "    regr.fit(this_X, y)\n",
    "    pl.plot(test, regr.predict(test))\n",
    "    pl.scatter(this_X, y, s = 3)"
   ]
  },
  {
   "cell_type": "code",
   "execution_count": 54,
   "metadata": {
    "autoscroll": "json-false",
    "collapsed": false,
    "ein.tags": [
     "worksheet-0"
    ],
    "slideshow": {
     "slide_type": "-"
    }
   },
   "outputs": [
    {
     "name": "stdout",
     "output_type": "stream",
     "text": [
      "[0.58511106838835292, 0.58520730154446743, 0.58546775406984908, 0.58555120365039159, 0.58307170855541612, 0.570589994372801]\n"
     ]
    }
   ],
   "source": [
    "alphas = np.logspace(-4, -1, 6)\n",
    "from __future__ import print_function\n",
    "print([regr.set_params(alpha=alpha).fit(diabetes_X_train,diabetes_y_train).score(diabetes_X_test, diabetes_y_test) for alpha in alphas])                           "
   ]
  },
  {
   "cell_type": "code",
   "execution_count": 111,
   "metadata": {
    "autoscroll": "json-false",
    "collapsed": false,
    "ein.tags": [
     "worksheet-0"
    ],
    "slideshow": {
     "slide_type": "-"
    }
   },
   "outputs": [
    {
     "data": {
      "text/plain": [
       "[0.58511106838835292,\n",
       " 0.58520730154446743,\n",
       " 0.58546775406984908,\n",
       " 0.58555120365039159,\n",
       " 0.58307170855541612,\n",
       " 0.570589994372801]"
      ]
     },
     "execution_count": 111,
     "metadata": {},
     "output_type": "execute_result"
    }
   ],
   "source": [
    "[(regr.set_params(alpha= alpha)\n",
    "     .fit(diabetes_X_train, diabetes_y_train)\n",
    "     .score(diabetes_X_test, diabetes_y_test)) for alpha in alphas]"
   ]
  },
  {
   "cell_type": "code",
   "execution_count": 118,
   "metadata": {
    "autoscroll": "json-false",
    "collapsed": false,
    "ein.tags": [
     "worksheet-0"
    ],
    "slideshow": {
     "slide_type": "-"
    }
   },
   "outputs": [
    {
     "data": {
      "text/plain": [
       "[0.58511910691622293,\n",
       " 0.58524713649060489,\n",
       " 0.58571895391793527,\n",
       " 0.58730094854527415,\n",
       " 0.58876224183092607,\n",
       " 0.5828450029681681]"
      ]
     },
     "execution_count": 118,
     "metadata": {},
     "output_type": "execute_result"
    }
   ],
   "source": [
    "regr = linear_model.Lasso()\n",
    "scores = [(regr.set_params(alpha = alpha)\n",
    "               .fit(diabetes_X_train, diabetes_y_train)\n",
    "               .score(diabetes_X_test, diabetes_y_test))\n",
    "               for alpha in alphas]\n",
    "scores"
   ]
  },
  {
   "cell_type": "code",
   "execution_count": 122,
   "metadata": {
    "autoscroll": "json-false",
    "collapsed": false,
    "ein.tags": [
     "worksheet-0"
    ],
    "slideshow": {
     "slide_type": "-"
    }
   },
   "outputs": [
    {
     "data": {
      "text/plain": [
       "Lasso(alpha=0.025118864315095794, copy_X=True, fit_intercept=True,\n",
       "   max_iter=1000, normalize=False, positive=False, precompute=False,\n",
       "   random_state=None, selection='cyclic', tol=0.0001, warm_start=False)"
      ]
     },
     "execution_count": 122,
     "metadata": {},
     "output_type": "execute_result"
    }
   ],
   "source": [
    "best_alpha = alphas[scores.index(max(scores))]\n",
    "regr.alpha = best_alpha\n",
    "regr.fit(diabetes_X_train, diabetes_y_train)"
   ]
  },
  {
   "cell_type": "code",
   "execution_count": 126,
   "metadata": {
    "autoscroll": "json-false",
    "collapsed": false,
    "ein.tags": [
     "worksheet-0"
    ],
    "slideshow": {
     "slide_type": "-"
    }
   },
   "outputs": [
    {
     "data": {
      "text/plain": [
       "array([   0.        , -212.43764548,  517.19478111,  313.77959962,\n",
       "       -160.8303982 ,   -0.        , -187.19554705,   69.38229038,\n",
       "        508.66011217,   71.84239008])"
      ]
     },
     "execution_count": 126,
     "metadata": {},
     "output_type": "execute_result"
    }
   ],
   "source": [
    "regr.coef_"
   ]
  },
  {
   "cell_type": "markdown",
   "metadata": {
    "ein.tags": [
     "worksheet-0"
    ],
    "slideshow": {
     "slide_type": "-"
    }
   },
   "source": [
    "## Logistic regression"
   ]
  },
  {
   "cell_type": "markdown",
   "metadata": {
    "ein.tags": [
     "worksheet-0"
    ],
    "slideshow": {
     "slide_type": "-"
    }
   },
   "source": [
    "$$\n",
    "  y = \\sigmoid(X \\beta - \\text{offset}) + \\epsilon =\n",
    "  \\frac{1}{1 + \\exp (-X \\beta + \\text{offset})) + \\epsilon\n",
    "$$"
   ]
  },
  {
   "cell_type": "code",
   "execution_count": 129,
   "metadata": {
    "autoscroll": "json-false",
    "collapsed": false,
    "ein.tags": [
     "worksheet-0"
    ],
    "slideshow": {
     "slide_type": "-"
    }
   },
   "outputs": [
    {
     "data": {
      "text/plain": [
       "LogisticRegression(C=100000.0, class_weight=None, dual=False,\n",
       "          fit_intercept=True, intercept_scaling=1, max_iter=100,\n",
       "          multi_class='ovr', n_jobs=1, penalty='l2', random_state=None,\n",
       "          solver='liblinear', tol=0.0001, verbose=0, warm_start=False)"
      ]
     },
     "execution_count": 129,
     "metadata": {},
     "output_type": "execute_result"
    }
   ],
   "source": [
    "logistic = linear_model.LogisticRegression(C = 1e5)\n",
    "logistic.fit(iris_X_train, iris_y_train)"
   ]
  },
  {
   "cell_type": "code",
   "execution_count": 135,
   "metadata": {
    "autoscroll": "json-false",
    "collapsed": false,
    "ein.tags": [
     "worksheet-0"
    ],
    "slideshow": {
     "slide_type": "-"
    }
   },
   "outputs": [
    {
     "data": {
      "text/plain": [
       "array([1, 2, 1, 0, 0, 0, 2, 1, 2, 0])"
      ]
     },
     "execution_count": 135,
     "metadata": {},
     "output_type": "execute_result"
    }
   ],
   "source": [
    "logistic.predict(iris_X_test)"
   ]
  },
  {
   "cell_type": "code",
   "execution_count": 136,
   "metadata": {
    "autoscroll": "json-false",
    "collapsed": false,
    "ein.tags": [
     "worksheet-0"
    ],
    "slideshow": {
     "slide_type": "-"
    }
   },
   "outputs": [
    {
     "data": {
      "text/plain": [
       "array([1, 1, 1, 0, 0, 0, 2, 1, 2, 0])"
      ]
     },
     "execution_count": 136,
     "metadata": {},
     "output_type": "execute_result"
    }
   ],
   "source": [
    "iris_y_test"
   ]
  },
  {
   "cell_type": "code",
   "execution_count": 151,
   "metadata": {
    "autoscroll": "json-false",
    "collapsed": false,
    "ein.tags": [
     "worksheet-0"
    ],
    "slideshow": {
     "slide_type": "-"
    }
   },
   "outputs": [
    {
     "data": {
      "image/png": "[encoded data removed]",
      "text/plain": [
       "<matplotlib.figure.Figure at 0x107f528d0>"
      ]
     },
     "metadata": {},
     "output_type": "display_data"
    },
    {
     "data": {
      "text/plain": [
       "<matplotlib.collections.PathCollection at 0x107be6110>"
      ]
     },
     "execution_count": 151,
     "metadata": {},
     "output_type": "execute_result"
    }
   ],
   "source": [
    "pl.figure()\n",
    "pl.scatter(iris_y_test + jitter, logistic.predict(iris_X_test))\n"
   ]
  },
  {
   "cell_type": "code",
   "execution_count": 153,
   "metadata": {
    "autoscroll": "json-false",
    "collapsed": false,
    "ein.tags": [
     "worksheet-0"
    ],
    "slideshow": {
     "slide_type": "-"
    }
   },
   "outputs": [
    {
     "data": {
      "image/png": "[encoded data removed]",
      "text/plain": [
       "<matplotlib.figure.Figure at 0x107caf550>"
      ]
     },
     "metadata": {},
     "output_type": "display_data"
    },
    {
     "data": {
      "text/plain": [
       "<matplotlib.collections.PathCollection at 0x107baeb50>"
      ]
     },
     "execution_count": 153,
     "metadata": {},
     "output_type": "execute_result"
    }
   ],
   "source": [
    "pl.figure()\n",
    "pl.scatter(iris_y_test + jitter, logistic.predict(iris_X_test) + jitter_y)"
   ]
  },
  {
   "cell_type": "code",
   "execution_count": 152,
   "metadata": {
    "autoscroll": "json-false",
    "collapsed": false,
    "ein.tags": [
     "worksheet-0"
    ],
    "slideshow": {
     "slide_type": "-"
    }
   },
   "outputs": [],
   "source": [
    "jitter_x = np.random.normal(size=len(iris_y_test), scale = 0.1)\n",
    "jitter_y = np.random.normal(size=len(iris_y_test), scale = 0.1)"
   ]
  },
  {
   "cell_type": "markdown",
   "metadata": {
    "ein.tags": [
     "worksheet-0"
    ],
    "slideshow": {
     "slide_type": "-"
    }
   },
   "source": [
    "## Exercise: classify digits"
   ]
  },
  {
   "cell_type": "code",
   "execution_count": 154,
   "metadata": {
    "autoscroll": "json-false",
    "collapsed": false,
    "ein.tags": [
     "worksheet-0"
    ],
    "slideshow": {
     "slide_type": "-"
    }
   },
   "outputs": [],
   "source": [
    "from sklearn import datasets, neighbors, linear_model"
   ]
  },
  {
   "cell_type": "code",
   "execution_count": 155,
   "metadata": {
    "autoscroll": "json-false",
    "collapsed": false,
    "ein.tags": [
     "worksheet-0"
    ],
    "slideshow": {
     "slide_type": "-"
    }
   },
   "outputs": [],
   "source": [
    "digits = datasets.load_digits()\n",
    "X_digits = digits.data\n",
    "y_digits = digits.target"
   ]
  },
  {
   "cell_type": "code",
   "execution_count": 157,
   "metadata": {
    "autoscroll": "json-false",
    "collapsed": false,
    "ein.tags": [
     "worksheet-0"
    ],
    "slideshow": {
     "slide_type": "-"
    }
   },
   "outputs": [],
   "source": [
    "# Split iris data into train and test data\n",
    "# A random permutation to split the data randomly\n",
    "np.random.seed(0)\n",
    "indices = np.random.permutation(len(X_digits))"
   ]
  },
  {
   "cell_type": "code",
   "execution_count": 159,
   "metadata": {
    "autoscroll": "json-false",
    "collapsed": false,
    "ein.tags": [
     "worksheet-0"
    ],
    "slideshow": {
     "slide_type": "-"
    }
   },
   "outputs": [],
   "source": [
    "num_test = len(X_digits) / 10"
   ]
  },
  {
   "cell_type": "code",
   "execution_count": 161,
   "metadata": {
    "autoscroll": "json-false",
    "collapsed": false,
    "ein.tags": [
     "worksheet-0"
    ],
    "slideshow": {
     "slide_type": "-"
    }
   },
   "outputs": [],
   "source": [
    "train_idx = indices[:-num_test]\n",
    "test_idx = indices[-num_test:]"
   ]
  },
  {
   "cell_type": "code",
   "execution_count": 164,
   "metadata": {
    "autoscroll": "json-false",
    "collapsed": false,
    "ein.tags": [
     "worksheet-0"
    ],
    "slideshow": {
     "slide_type": "-"
    }
   },
   "outputs": [],
   "source": [
    "X_digits_train = X_digits[train_idx]\n",
    "y_digits_train = y_digits[train_idx]\n",
    "X_digits_test = X_digits[test_idx]\n",
    "y_digits_test = y_digits[test_idx]"
   ]
  },
  {
   "cell_type": "code",
   "execution_count": 166,
   "metadata": {
    "autoscroll": "json-false",
    "collapsed": false,
    "ein.tags": [
     "worksheet-0"
    ],
    "slideshow": {
     "slide_type": "-"
    }
   },
   "outputs": [],
   "source": [
    "clf_linear = linear_model.LinearRegression()"
   ]
  },
  {
   "cell_type": "code",
   "execution_count": 168,
   "metadata": {
    "autoscroll": "json-false",
    "collapsed": false,
    "ein.tags": [
     "worksheet-0"
    ],
    "slideshow": {
     "slide_type": "-"
    }
   },
   "outputs": [],
   "source": [
    "clf_linear.fit(X_digits_train, y_digits_train)\n",
    "pred_lin = clf_linear.predict(X_digits_test)"
   ]
  },
  {
   "cell_type": "code",
   "execution_count": 175,
   "metadata": {
    "autoscroll": "json-false",
    "collapsed": false,
    "ein.tags": [
     "worksheet-0"
    ],
    "slideshow": {
     "slide_type": "-"
    }
   },
   "outputs": [
    {
     "name": "stdout",
     "output_type": "stream",
     "text": [
      "score =  0.659676192995\n",
      "msq =  2.73102393511\n"
     ]
    }
   ],
   "source": [
    "print ('score = ', clf_linear.score(X_digits_test, y_digits_test))\n",
    "print ('msq = ', np.mean((pred_lin - y_digits_test) **2))"
   ]
  },
  {
   "cell_type": "code",
   "execution_count": 179,
   "metadata": {
    "autoscroll": "json-false",
    "collapsed": false,
    "ein.tags": [
     "worksheet-0"
    ],
    "slideshow": {
     "slide_type": "-"
    }
   },
   "outputs": [],
   "source": [
    "clf_neigh = neighbors.NearestNeighbors(n_neighbors= 5, radius= 1.0)"
   ]
  },
  {
   "cell_type": "code",
   "execution_count": 183,
   "metadata": {
    "autoscroll": "json-false",
    "collapsed": false,
    "ein.tags": [
     "worksheet-0"
    ],
    "slideshow": {
     "slide_type": "-"
    }
   },
   "outputs": [],
   "source": [
    "neighbors.NearestNeighbors??"
   ]
  },
  {
   "cell_type": "code",
   "execution_count": 180,
   "metadata": {
    "autoscroll": "json-false",
    "collapsed": false,
    "ein.tags": [
     "worksheet-0"
    ],
    "slideshow": {
     "slide_type": "-"
    }
   },
   "outputs": [
    {
     "data": {
      "text/plain": [
       "NearestNeighbors(algorithm='auto', leaf_size=30, metric='minkowski',\n",
       "         metric_params=None, n_jobs=1, n_neighbors=5, p=2, radius=1.0)"
      ]
     },
     "execution_count": 180,
     "metadata": {},
     "output_type": "execute_result"
    }
   ],
   "source": [
    "clf_neigh.fit(X_digits_train)"
   ]
  },
  {
   "cell_type": "code",
   "execution_count": 182,
   "metadata": {
    "autoscroll": "json-false",
    "collapsed": false,
    "ein.tags": [
     "worksheet-0"
    ],
    "slideshow": {
     "slide_type": "-"
    }
   },
   "outputs": [
    {
     "data": {
      "text/plain": [
       "(array([[ 16.34013464,  17.77638883,  17.97220076,  18.76166304,\n",
       "          19.36491673],\n",
       "        [  7.54983444,  10.24695077,  11.3137085 ,  11.5758369 ,  12.9614814 ],\n",
       "        [ 17.63519209,  17.8605711 ,  17.88854382,  18.54723699,  18.734994  ],\n",
       "        [ 12.489996  ,  16.64331698,  16.85229955,  17.05872211,\n",
       "          17.11724277],\n",
       "        [  9.48683298,  10.        ,  11.35781669,  12.        ,\n",
       "          12.16552506],\n",
       "        [ 15.5241747 ,  17.63519209,  19.59591794,  20.        ,\n",
       "          22.06807649],\n",
       "        [ 14.56021978,  16.673332  ,  19.59591794,  19.72308292,\n",
       "          20.14944168],\n",
       "        [ 17.60681686,  17.88854382,  18.70828693,  19.07878403,\n",
       "          20.04993766],\n",
       "        [ 12.9614814 ,  13.41640786,  13.45362405,  13.85640646,\n",
       "          13.92838828],\n",
       "        [ 20.97617696,  21.72556098,  22.3383079 ,  23.        ,\n",
       "          23.53720459],\n",
       "        [ 22.53885534,  24.91987159,  25.49509757,  25.51470164,\n",
       "          25.51470164],\n",
       "        [ 12.4498996 ,  16.15549442,  17.23368794,  18.33030278,\n",
       "          19.28730152],\n",
       "        [ 20.85665361,  21.33072901,  22.27105745,  23.        ,\n",
       "          23.06512519],\n",
       "        [ 24.81934729,  25.45584412,  26.15339366,  28.3019434 ,\n",
       "          28.98275349],\n",
       "        [ 14.03566885,  17.66352173,  18.35755975,  18.54723699,\n",
       "          20.22374842],\n",
       "        [ 16.1245155 ,  20.51828453,  22.38302929,  23.10844002,\n",
       "          24.16609195],\n",
       "        [ 12.24744871,  12.56980509,  14.89966443,  14.96662955,\n",
       "          15.74801575],\n",
       "        [ 27.49545417,  28.        ,  33.01514804,  33.33166662,\n",
       "          33.43650699],\n",
       "        [ 14.31782106,  16.58312395,  18.38477631,  18.89444363,\n",
       "          19.36491673],\n",
       "        [ 16.15549442,  18.05547009,  18.49324201,  19.18332609,\n",
       "          20.68816087],\n",
       "        [ 14.83239697,  16.88194302,  19.13112647,  20.174241  ,\n",
       "          21.04756518],\n",
       "        [ 17.74823935,  18.734994  ,  20.14944168,  20.32240143,\n",
       "          20.68816087],\n",
       "        [ 20.34698995,  20.59126028,  26.77685568,  27.71281292,\n",
       "          27.76688675],\n",
       "        [ 14.35270009,  15.68438714,  16.88194302,  17.17556404,\n",
       "          18.41195264],\n",
       "        [ 22.60530911,  23.4520788 ,  23.9582971 ,  24.55605832,\n",
       "          25.47547841],\n",
       "        [ 24.8997992 ,  26.43860813,  27.20294102,  27.5317998 ,\n",
       "          27.62245463],\n",
       "        [ 21.86321111,  24.10394159,  24.67792536,  24.79919354,\n",
       "          25.51470164],\n",
       "        [ 14.59451952,  16.34013464,  17.2626765 ,  18.60107524,\n",
       "          19.77371993],\n",
       "        [ 22.18107301,  24.18677324,  25.        ,  25.41653005,\n",
       "          27.09243437],\n",
       "        [ 15.84297952,  16.82260384,  19.39071943,  20.73644135,\n",
       "          21.56385865],\n",
       "        [ 14.83239697,  15.62049935,  16.0623784 ,  16.2788206 ,\n",
       "          16.52271164],\n",
       "        [ 14.93318452,  15.23154621,  15.65247584,  16.24807681,\n",
       "          16.64331698],\n",
       "        [ 18.57417562,  19.10497317,  21.72556098,  22.3159136 ,\n",
       "          22.93468988],\n",
       "        [ 15.32970972,  16.24807681,  17.69180601,  18.16590212,\n",
       "          18.52025918],\n",
       "        [ 14.17744688,  15.65247584,  15.90597372,  17.02938637,\n",
       "          18.22086716],\n",
       "        [ 17.4642492 ,  18.22086716,  18.60107524,  18.62793601,\n",
       "          19.10497317],\n",
       "        [ 17.4642492 ,  20.4450483 ,  21.9089023 ,  23.74868417,\n",
       "          24.37211521],\n",
       "        [ 16.52271164,  17.4642492 ,  18.13835715,  19.13112647,\n",
       "          19.49358869],\n",
       "        [ 17.05872211,  18.84144368,  19.67231557,  19.77371993,\n",
       "          20.22374842],\n",
       "        [ 20.        ,  22.53885534,  23.53720459,  23.60084744,\n",
       "          24.12467616],\n",
       "        [ 17.74823935,  19.4422221 ,  19.5192213 ,  21.23676058,\n",
       "          23.06512519],\n",
       "        [ 13.49073756,  13.78404875,  14.45683229,  14.86606875,\n",
       "          15.23154621],\n",
       "        [ 17.8325545 ,  19.26136028,  20.14944168,  20.88061302,\n",
       "          20.92844954],\n",
       "        [ 18.33030278,  18.62793601,  19.62141687,  20.90454496,\n",
       "          21.04756518],\n",
       "        [ 11.66190379,  13.49073756,  15.55634919,  16.18641406,\n",
       "          16.70329309],\n",
       "        [ 15.49193338,  15.71623365,  15.90597372,  15.93737745,\n",
       "          15.93737745],\n",
       "        [ 17.8325545 ,  18.46618531,  19.8242276 ,  20.14944168,\n",
       "          20.63976744],\n",
       "        [ 20.24845673,  20.78460969,  23.76972865,  24.16609195,\n",
       "          24.53568829],\n",
       "        [ 15.93737745,  17.23368794,  18.08314132,  18.38477631,\n",
       "          18.68154169],\n",
       "        [ 14.38749457,  20.27313493,  22.84731932,  24.0208243 ,\n",
       "          26.13426869],\n",
       "        [ 18.        ,  18.43908891,  19.8242276 ,  20.78460969,\n",
       "          21.11871208],\n",
       "        [ 10.86278049,  12.489996  ,  12.76714533,  13.89244399,  14.2126704 ],\n",
       "        [ 16.82260384,  18.41195264,  21.07130751,  22.06807649,  22.627417  ],\n",
       "        [ 15.65247584,  16.43167673,  16.94107435,  17.20465053,  17.3781472 ],\n",
       "        [ 19.31320792,  19.59591794,  20.46948949,  20.92844954,  21.9544984 ],\n",
       "        [ 10.19803903,  16.82260384,  17.69180601,  18.22086716,\n",
       "          18.54723699],\n",
       "        [ 14.        ,  17.05872211,  17.8325545 ,  18.49324201,\n",
       "          20.04993766],\n",
       "        [ 17.94435844,  19.77371993,  19.89974874,  21.04756518,  22.8035085 ],\n",
       "        [ 10.09950494,  10.09950494,  10.14889157,  11.22497216,  12.4498996 ],\n",
       "        [ 17.72004515,  18.1934054 ,  18.52025918,  18.734994  ,\n",
       "          19.39071943],\n",
       "        [ 15.87450787,  21.        ,  22.3159136 ,  22.47220505,\n",
       "          23.23790008],\n",
       "        [ 18.        ,  18.38477631,  19.72308292,  20.02498439,\n",
       "          21.86321111],\n",
       "        [ 16.40121947,  17.02938637,  17.69180601,  18.35755975,\n",
       "          18.84144368],\n",
       "        [ 15.06651917,  17.74823935,  18.68154169,  18.94729532,\n",
       "          19.13112647],\n",
       "        [ 18.734994  ,  20.97617696,  21.23676058,  22.97825059,\n",
       "          23.23790008],\n",
       "        [ 24.77902339,  25.70992026,  27.87471973,  27.98213716,\n",
       "          28.87905816],\n",
       "        [  9.32737905,  12.32882801,  13.19090596,  15.29705854,\n",
       "          18.49324201],\n",
       "        [ 16.37070554,  17.32050808,  18.38477631,  20.        ,\n",
       "          20.66397832],\n",
       "        [ 25.51470164,  25.67099531,  25.78759392,  26.66458325,\n",
       "          26.83281573],\n",
       "        [  8.60232527,   9.11043358,  11.35781669,  12.04159458,\n",
       "          13.07669683],\n",
       "        [ 13.85640646,  15.19868415,  16.94107435,  18.84144368,\n",
       "          18.97366596],\n",
       "        [ 20.32240143,  21.58703314,  21.77154106,  22.5166605 ,\n",
       "          22.84731932],\n",
       "        [ 13.82027496,  16.4924225 ,  18.97366596,  19.8242276 ,\n",
       "          20.97617696],\n",
       "        [ 20.22374842,  20.46948949,  22.49444376,  22.84731932,\n",
       "          23.21637353],\n",
       "        [ 15.68438714,  15.87450787,  16.1245155 ,  18.1934054 ,\n",
       "          19.92485885],\n",
       "        [ 12.40967365,  16.82260384,  19.18332609,  19.79898987,\n",
       "          20.78460969],\n",
       "        [ 16.15549442,  16.82260384,  18.97366596,  19.84943324,\n",
       "          20.34698995],\n",
       "        [ 17.80449381,  21.88606863,  22.627417  ,  22.75961335,\n",
       "          23.15167381],\n",
       "        [ 12.80624847,  13.26649916,  13.6381817 ,  16.        ,\n",
       "          16.21727474],\n",
       "        [ 15.06651917,  18.38477631,  21.14237451,  21.77154106,  21.9544984 ],\n",
       "        [ 19.15724406,  20.42057786,  20.46948949,  20.73644135,  21.9544984 ],\n",
       "        [ 15.62049935,  15.65247584,  15.90597372,  16.4924225 ,\n",
       "          19.18332609],\n",
       "        [ 24.81934729,  24.87971061,  26.64582519,  27.49545417,\n",
       "          27.92848009],\n",
       "        [ 15.26433752,  22.91287847,  23.        ,  23.38803113,\n",
       "          23.53720459],\n",
       "        [ 14.10673598,  15.09966887,  15.71623365,  17.54992877,\n",
       "          17.91647287],\n",
       "        [ 21.86321111,  23.2594067 ,  23.38803113,  24.69817807,\n",
       "          25.43619468],\n",
       "        [ 21.1896201 ,  22.44994432,  24.10394159,  24.59674775,\n",
       "          24.65765601],\n",
       "        [ 20.04993766,  20.88061302,  21.02379604,  21.86321111,\n",
       "          23.19482701],\n",
       "        [ 19.33907961,  21.9544984 ,  23.32380758,  23.4520788 ,\n",
       "          23.89560629],\n",
       "        [ 17.40689519,  20.1246118 ,  20.4450483 ,  20.90454496,\n",
       "          21.09502311],\n",
       "        [ 23.51595203,  25.47547841,  25.94224354,  27.38612788,  28.7923601 ],\n",
       "        [ 15.16575089,  17.49285568,  20.02498439,  21.3541565 ,\n",
       "          22.04540769],\n",
       "        [ 20.34698995,  22.27105745,  23.38803113,  25.43619468,\n",
       "          26.43860813],\n",
       "        [  9.43398113,  11.26942767,  14.35270009,  14.79864859,\n",
       "          14.86606875],\n",
       "        [ 16.40121947,  16.55294536,  18.54723699,  19.92485885,\n",
       "          22.36067977],\n",
       "        [ 16.1245155 ,  16.673332  ,  17.60681686,  18.62793601,\n",
       "          20.24845673],\n",
       "        [ 13.7113092 ,  15.26433752,  16.73320053,  18.22086716,\n",
       "          18.43908891],\n",
       "        [ 22.49444376,  24.08318916,  25.96150997,  27.25802634,\n",
       "          28.54820485],\n",
       "        [ 22.97825059,  23.28089345,  23.60084744,  24.04163056,\n",
       "          24.06241883],\n",
       "        [ 16.79285562,  17.49285568,  19.13112647,  19.57038579,\n",
       "          19.72308292],\n",
       "        [ 14.69693846,  22.42766149,  22.82542442,  27.05549852,\n",
       "          27.98213716],\n",
       "        [ 17.43559577,  23.76972865,  24.04163056,  24.87971061,\n",
       "          24.93992783],\n",
       "        [ 11.44552314,  11.91637529,  14.03566885,  14.07124728,\n",
       "          14.96662955],\n",
       "        [ 13.19090596,  14.24780685,  14.73091986,  15.96871942,\n",
       "          17.17556404],\n",
       "        [ 12.76714533,  13.56465997,  16.24807681,  17.02938637,\n",
       "          17.40689519],\n",
       "        [ 11.3137085 ,  15.39480432,  15.90597372,  16.09347694,\n",
       "          16.40121947],\n",
       "        [ 13.6381817 ,  14.31782106,  15.        ,  15.32970972,  15.5241747 ],\n",
       "        [ 19.79898987,  21.40093456,  24.10394159,  24.63736999,\n",
       "          24.67792536],\n",
       "        [ 13.11487705,  15.62049935,  17.52141547,  18.        ,\n",
       "          19.07878403],\n",
       "        [ 15.84297952,  18.1934054 ,  18.92088793,  19.36491673,\n",
       "          19.41648784],\n",
       "        [ 13.6381817 ,  13.78404875,  13.82027496,  14.69693846,\n",
       "          16.03121954],\n",
       "        [ 13.15294644,  14.07124728,  14.35270009,  15.09966887,\n",
       "          15.39480432],\n",
       "        [ 16.40121947,  24.85960579,  27.5680975 ,  28.19574436,\n",
       "          29.37686164],\n",
       "        [  9.89949494,  14.        ,  14.93318452,  15.96871942,\n",
       "          17.34935157],\n",
       "        [ 24.04163056,  25.94224354,  28.58321186,  28.80972058,\n",
       "          28.87905816],\n",
       "        [ 21.9089023 ,  23.74868417,  25.69046516,  25.72936066,\n",
       "          26.36285265],\n",
       "        [ 17.52141547,  18.57417562,  19.87460691,  21.79449472,\n",
       "          23.64318084],\n",
       "        [ 17.94435844,  18.        ,  20.90454496,  21.9089023 ,  22.5166605 ],\n",
       "        [ 14.17744688,  16.1245155 ,  17.29161647,  17.29161647,\n",
       "          17.66352173],\n",
       "        [ 21.9544984 ,  23.93741841,  24.24871131,  24.8394847 ,\n",
       "          25.35744467],\n",
       "        [ 17.97220076,  19.20937271,  19.54482029,  20.59126028,\n",
       "          21.70253441],\n",
       "        [ 14.76482306,  14.96662955,  15.        ,  15.68438714,\n",
       "          16.52271164],\n",
       "        [ 12.9614814 ,  13.60147051,  14.59451952,  14.6628783 ,\n",
       "          15.68438714],\n",
       "        [ 11.83215957,  16.55294536,  21.33072901,  21.3541565 ,\n",
       "          21.51743479],\n",
       "        [ 16.673332  ,  18.22086716,  20.71231518,  21.07130751,\n",
       "          22.42766149],\n",
       "        [ 13.67479433,  16.73320053,  16.94107435,  19.07878403,\n",
       "          19.13112647],\n",
       "        [ 16.2788206 ,  20.32240143,  21.44761059,  21.9317122 ,\n",
       "          22.11334439],\n",
       "        [ 14.56021978,  14.93318452,  17.1464282 ,  17.69180601,\n",
       "          17.72004515],\n",
       "        [ 15.03329638,  15.3622915 ,  17.77638883,  17.80449381,\n",
       "          19.26136028],\n",
       "        [ 15.26433752,  17.3781472 ,  18.1934054 ,  19.8242276 ,\n",
       "          21.11871208],\n",
       "        [ 15.84297952,  17.05872211,  18.38477631,  20.0748599 ,\n",
       "          24.24871131],\n",
       "        [ 17.23368794,  17.32050808,  19.6468827 ,  20.73644135,\n",
       "          20.95232684],\n",
       "        [ 21.9317122 ,  22.60530911,  24.12467616,  25.65151068,\n",
       "          25.78759392],\n",
       "        [ 18.78829423,  19.18332609,  19.59591794,  19.92485885,  20.0748599 ],\n",
       "        [ 14.93318452,  15.16575089,  17.17556404,  21.26029163,\n",
       "          22.22611077],\n",
       "        [ 17.91647287,  18.24828759,  20.37154879,  20.42057786,\n",
       "          21.07130751],\n",
       "        [ 10.63014581,  16.37070554,  16.97056275,  17.54992877,\n",
       "          19.72308292],\n",
       "        [ 18.81488772,  19.31320792,  20.68816087,  20.76053949,\n",
       "          22.86919325],\n",
       "        [ 12.        ,  13.15294644,  13.92838828,  14.45683229,\n",
       "          14.56021978],\n",
       "        [ 17.52141547,  18.        ,  18.57417562,  18.65475811,\n",
       "          18.68154169],\n",
       "        [ 12.80624847,  14.14213562,  14.35270009,  15.13274595,\n",
       "          16.76305461],\n",
       "        [ 14.79864859,  15.23154621,  16.37070554,  17.05872211,\n",
       "          17.08800749],\n",
       "        [ 19.97498436,  20.42057786,  20.51828453,  21.23676058,\n",
       "          21.61018278],\n",
       "        [ 16.82260384,  19.        ,  20.46948949,  20.83266666,\n",
       "          21.07130751],\n",
       "        [ 18.92088793,  19.84943324,  20.42057786,  21.33072901,\n",
       "          21.47091055],\n",
       "        [ 15.39480432,  15.74801575,  15.77973384,  16.58312395,\n",
       "          17.29161647],\n",
       "        [ 18.1934054 ,  20.49390153,  22.7815715 ,  22.97825059,\n",
       "          23.34523506],\n",
       "        [ 15.84297952,  18.38477631,  18.46618531,  18.65475811,\n",
       "          18.76166304],\n",
       "        [ 19.39071943,  20.51828453,  20.76053949,  24.73863375,\n",
       "          25.94224354],\n",
       "        [  7.93725393,  10.29563014,  10.34408043,  11.48912529,\n",
       "          12.52996409],\n",
       "        [ 13.37908816,  18.86796226,  19.07878403,  19.18332609,\n",
       "          19.39071943],\n",
       "        [ 19.        ,  19.89974874,  20.51828453,  21.63330765,  21.9089023 ],\n",
       "        [ 15.13274595,  17.32050808,  17.8605711 ,  18.57417562,\n",
       "          18.89444363],\n",
       "        [ 14.93318452,  16.76305461,  17.3781472 ,  18.05547009,\n",
       "          18.41195264],\n",
       "        [ 18.84144368,  19.36491673,  19.67231557,  19.8242276 ,\n",
       "          19.87460691],\n",
       "        [ 17.60681686,  17.60681686,  17.94435844,  18.05547009,\n",
       "          19.54482029],\n",
       "        [ 15.3622915 ,  16.21727474,  18.22086716,  19.02629759,\n",
       "          19.36491673],\n",
       "        [ 22.69361144,  26.32489316,  27.25802634,  28.68797658,\n",
       "          28.93095228],\n",
       "        [ 16.58312395,  18.05547009,  20.54263858,  20.85665361,\n",
       "          21.63330765],\n",
       "        [ 12.32882801,  15.19868415,  16.55294536,  16.673332  ,\n",
       "          16.79285562],\n",
       "        [ 14.24780685,  15.26433752,  15.8113883 ,  16.64331698,\n",
       "          18.02775638],\n",
       "        [ 19.46792233,  20.76053949,  21.26029163,  21.51743479,\n",
       "          21.58703314],\n",
       "        [ 15.90597372,  17.8605711 ,  18.62793601,  18.97366596,\n",
       "          19.02629759],\n",
       "        [ 23.28089345,  24.2899156 ,  24.4744765 ,  26.38181192,\n",
       "          26.47640459],\n",
       "        [ 14.49137675,  17.77638883,  18.94729532,  19.62141687,\n",
       "          21.28379665],\n",
       "        [ 13.60147051,  16.52271164,  17.57839583,  17.66352173,\n",
       "          18.05547009],\n",
       "        [ 15.58845727,  20.5669638 ,  23.10844002,  24.10394159,\n",
       "          25.29822128],\n",
       "        [ 17.20465053,  21.51743479,  22.        ,  22.49444376,\n",
       "          22.60530911],\n",
       "        [ 17.74823935,  20.49390153,  22.84731932,  23.4520788 ,\n",
       "          23.51595203],\n",
       "        [ 15.23154621,  17.02938637,  17.8325545 ,  21.44761059,  22.5166605 ],\n",
       "        [ 12.40967365,  14.62873884,  16.73320053,  17.11724277,\n",
       "          18.78829423],\n",
       "        [ 19.74841766,  20.09975124,  20.42057786,  20.92844954,\n",
       "          21.04756518],\n",
       "        [ 18.734994  ,  20.02498439,  20.90454496,  21.11871208,  21.3541565 ],\n",
       "        [ 16.94107435,  17.32050808,  18.86796226,  18.86796226,\n",
       "          19.07878403],\n",
       "        [ 18.30300522,  18.38477631,  19.84943324,  20.85665361,\n",
       "          20.88061302],\n",
       "        [ 16.43167673,  19.87460691,  21.77154106,  22.86919325,\n",
       "          23.13006701],\n",
       "        [ 13.45362405,  17.74823935,  19.33907961,  22.13594362,\n",
       "          23.87467277],\n",
       "        [ 16.64331698,  17.        ,  18.11077028,  19.02629759,\n",
       "          19.20937271],\n",
       "        [ 15.32970972,  19.15724406,  21.3541565 ,  23.04343724,\n",
       "          23.60084744]]), array([[1090,  827, 1299, 1380,  583],\n",
       "        [1289,  616,  202, 1594,  679],\n",
       "        [1152, 1337, 1006,   43,  612],\n",
       "        [ 308,  889, 1016,  199, 1350],\n",
       "        [1323,  806,  567, 1064,  908],\n",
       "        [1330,  203,  663, 1243,  603],\n",
       "        [ 397,  337, 1101, 1398, 1044],\n",
       "        [  38,  307,  816,  742, 1565],\n",
       "        [ 735,  807, 1344,  529,  597],\n",
       "        [ 495,  800, 1247,  738,  578],\n",
       "        [ 144, 1471,  941, 1512, 1192],\n",
       "        [ 580,  120,  338,  769,  859],\n",
       "        [1337, 1062,   31,  978,  669],\n",
       "        [ 553,  846,  620, 1052, 1307],\n",
       "        [1532, 1221,  678,  960,  221],\n",
       "        [1458,  115,  933, 1409,  540],\n",
       "        [1565, 1363, 1596,  816,   38],\n",
       "        [1319,  332, 1087,  702,  507],\n",
       "        [ 959, 1077,  971,  709,  953],\n",
       "        [1247,  997,  495,  607,  581],\n",
       "        [ 459,  220, 1402,    0,  783],\n",
       "        [1486,  962,  288,  769, 1610],\n",
       "        [ 427,  315,  491, 1102,  319],\n",
       "        [ 348,  934, 1190,  782,   39],\n",
       "        [ 795,  124,  494,   40,  736],\n",
       "        [ 513,    8,  683,  278,  753],\n",
       "        [1013,  469, 1554,  914,  717],\n",
       "        [1294,  590, 1168,  877, 1179],\n",
       "        [1521,  135,  755, 1002, 1199],\n",
       "        [ 978, 1062,   31,  669,  865],\n",
       "        [ 761,  300,  528, 1400,  468],\n",
       "        [ 208,  579,  833,  328, 1548],\n",
       "        [ 985, 1600,  771,  559, 1339],\n",
       "        [ 816,   45, 1363, 1264, 1565],\n",
       "        [ 948,  820,  121, 1148,  191],\n",
       "        [ 808,  813, 1341,  989, 1047],\n",
       "        [ 248,  562,  247, 1549,  403],\n",
       "        [ 229, 1389,  592, 1419,  787],\n",
       "        [ 862,  536,  387, 1099,  656],\n",
       "        [  75, 1096, 1276,  857,   40],\n",
       "        [ 271, 1119, 1443,  360,  239],\n",
       "        [   4,  565,  684,  162, 1412],\n",
       "        [ 165, 1297, 1135,  208,  756],\n",
       "        [1333, 1293, 1051, 1058,  746],\n",
       "        [ 734, 1217, 1508, 1367,   26],\n",
       "        [ 773,  862,  759,  833,  345],\n",
       "        [ 497, 1449, 1361, 1326,  362],\n",
       "        [ 997,  495,  250,  607,  574],\n",
       "        [ 262, 1129,  323, 1359,  182],\n",
       "        [ 104,  901, 1578, 1087,  741],\n",
       "        [1069, 1411,  652,  377,  520],\n",
       "        [1462,  199,  526,  630, 1122],\n",
       "        [1574, 1106,  435,  366, 1176],\n",
       "        [ 100, 1479, 1496,  703,  689],\n",
       "        [ 374,  765, 1185, 1188,  284],\n",
       "        [  43, 1152,  829, 1006, 1348],\n",
       "        [ 138,  831, 1382,  892,  119],\n",
       "        [ 544,  708,  618, 1465,  417],\n",
       "        [ 597,  804,  567,  529, 1344],\n",
       "        [1378, 1602,  809, 1288,  216],\n",
       "        [ 359, 1125,  473,  712,  780],\n",
       "        [ 197,  419, 1325, 1407, 1183],\n",
       "        [  38,  694,  126,  742,  759],\n",
       "        [1020,  379,  883, 1541, 1051],\n",
       "        [ 289,  549, 1019, 1018, 1509],\n",
       "        [ 655, 1319, 1038,  332,  130],\n",
       "        [1584, 1588, 1234, 1236, 1210],\n",
       "        [1605,  929,  260, 1089,  134],\n",
       "        [1233,  601, 1315,  397,  357],\n",
       "        [ 171, 1344, 1261,  567, 1151],\n",
       "        [ 834,  422,  249, 1218, 1422],\n",
       "        [1045,  428,  823,  447, 1525],\n",
       "        [1532, 1221, 1583,  123,  432],\n",
       "        [ 743, 1279,  944,  157, 1431],\n",
       "        [ 710,  614,  146,   87,  801],\n",
       "        [ 573, 1112,   52,  615,  818],\n",
       "        [ 669, 1260, 1218, 1563,  159],\n",
       "        [ 258,  410,  397, 1266,  680],\n",
       "        [1475, 1284,  201,  412,  709],\n",
       "        [1327,  676,  444,  731,   16],\n",
       "        [1536,  463,  642,  819, 1245],\n",
       "        [1354,  107,   64,  327, 1446],\n",
       "        [1220,  299,  457,  671,  655],\n",
       "        [ 978,  512, 1564,  224,  523],\n",
       "        [1128,  592,   69,  128, 1444],\n",
       "        [1334,  490, 1300,  657, 1579],\n",
       "        [1478, 1093,  370, 1431, 1258],\n",
       "        [1367, 1217, 1508,  734, 1427],\n",
       "        [ 135, 1595,  843,  642, 1002],\n",
       "        [ 254, 1294,  877,  723, 1535],\n",
       "        [  84,  101,  418, 1476,  574],\n",
       "        [1334,  664, 1121,  826,  479],\n",
       "        [ 293, 1011, 1070, 1385,   72],\n",
       "        [ 281,  225,  290,  569, 1372],\n",
       "        [1180,  336,  298, 1117,   80],\n",
       "        [1333,  206,  153,  295,   59],\n",
       "        [ 528, 1507,  300, 1567,  761],\n",
       "        [1374,  776, 1429, 1349, 1182],\n",
       "        [ 682,  510,  695,  375,   36],\n",
       "        [  77, 1376,  556,  220, 1499],\n",
       "        [ 589,  428,  462,  361,  624],\n",
       "        [ 443,  839,  622,  215, 1097],\n",
       "        [1616,  496,  627, 1450, 1130],\n",
       "        [ 128,  202, 1048, 1276, 1201],\n",
       "        [1315, 1123, 1006,    5,  865],\n",
       "        [ 554,  874, 1369, 1172,  194],\n",
       "        [1535,  461, 1588, 1210, 1236],\n",
       "        [1319,  332,  655,   27, 1259],\n",
       "        [1219,  347,  976, 1362,  734],\n",
       "        [1057,  405,  596,  461, 1117],\n",
       "        [ 759,   38,  886,  996,  773],\n",
       "        [1260,  159, 1218,  865,  669],\n",
       "        [1008,  727, 1401, 1515, 1122],\n",
       "        [ 526,  630,  860,  199,  610],\n",
       "        [ 876,  370,  666,  836, 1093],\n",
       "        [ 938,  704,  690, 1548, 1567],\n",
       "        [ 221,   35,   96,  292, 1532],\n",
       "        [ 819,    7,  463,  506,  547],\n",
       "        [1616, 1130,  985,  627,  496],\n",
       "        [ 620, 1262, 1041,  632, 1498],\n",
       "        [1124,  784, 1599, 1355,  639],\n",
       "        [ 371,  390, 1511,  139,  565],\n",
       "        [ 199,  308,  630,  526,  889],\n",
       "        [ 285,  945,  385,  928, 1332],\n",
       "        [1431,  743,   91, 1478,  157],\n",
       "        [ 516, 1425,  145,  325,   39],\n",
       "        [1610,  309,  962,  288,  140],\n",
       "        [ 474, 1336,  928,  967,  760],\n",
       "        [ 368,  680, 1266, 1543, 1340],\n",
       "        [1480, 1365, 1375,  637,  857],\n",
       "        [1365, 1141, 1480, 1040, 1517],\n",
       "        [ 984,  440,  580,  338,  859],\n",
       "        [   0,  244, 1402,  893,  236],\n",
       "        [ 247,   25,  133,  817, 1414],\n",
       "        [ 436,   53, 1026,  264, 1520],\n",
       "        [ 820,  121, 1428,  581,  720],\n",
       "        [ 960,  678, 1532,  221,  521],\n",
       "        [ 927,  234,  633,   71,  647],\n",
       "        [1257, 1276,  987,  804, 1316],\n",
       "        [ 960,  641,  296, 1366, 1079],\n",
       "        [ 245,  114,  713,   42,  864],\n",
       "        [1594,  635, 1289,  202,  616],\n",
       "        [1296,  200,  811, 1103,  689],\n",
       "        [ 613,  646,  770, 1528,  413],\n",
       "        [1050,  402, 1162, 1384, 1301],\n",
       "        [1506,  955,  323, 1511, 1453],\n",
       "        [ 492, 1465, 1479,  923, 1103],\n",
       "        [ 462, 1107, 1525, 1382,  138],\n",
       "        [ 839, 1097, 1137,  215,  443],\n",
       "        [ 804,  567,  908,  987,  171],\n",
       "        [1341,  740,  808,  728,  383],\n",
       "        [ 506,  706,  931,  547, 1278],\n",
       "        [ 349,  545,  261,  557,  174],\n",
       "        [1506,  323,  955,  262, 1511],\n",
       "        [  68, 1381, 1111, 1520, 1484],\n",
       "        [ 606, 1541, 1333,  206,   59],\n",
       "        [ 714, 1006,  717, 1482,  350],\n",
       "        [1582,  992, 1327,  916, 1251],\n",
       "        [ 191,  948,  256, 1148,  121],\n",
       "        [1059,  323,  771,  856, 1010],\n",
       "        [1198,  633,  234,  927,  961],\n",
       "        [ 162,  684, 1412,  856, 1109],\n",
       "        [ 820,  581, 1197, 1148, 1045],\n",
       "        [ 254, 1280,  415,  481,  877],\n",
       "        [ 793,  350,  337, 1482,  397],\n",
       "        [ 460, 1609,  921,  154,  993],\n",
       "        [ 185,  532, 1082, 1134, 1614],\n",
       "        [ 960,  289, 1018, 1079,  678],\n",
       "        [1389, 1386,  787, 1523,  871],\n",
       "        [1149,  455, 1226, 1083, 1128],\n",
       "        [1615,  939, 1491,  272, 1492],\n",
       "        [  70, 1370,  246,  846,  828],\n",
       "        [1221, 1034,  521,  875, 1302],\n",
       "        [ 621,  544, 1237,  492, 1479],\n",
       "        [1307, 1542,  966, 1477,   36],\n",
       "        [ 619, 1424,  633,  274, 1088],\n",
       "        [1062,  978, 1545,   31, 1166],\n",
       "        [1337, 1482, 1006,   31,   79],\n",
       "        [ 652, 1176,  489,  112,   40]]))"
      ]
     },
     "execution_count": 182,
     "metadata": {},
     "output_type": "execute_result"
    }
   ],
   "source": [
    "clf_neigh.kneighbors(X = X_digits_test)"
   ]
  },
  {
   "cell_type": "markdown",
   "metadata": {
    "ein.tags": [
     "worksheet-0"
    ],
    "slideshow": {
     "slide_type": "-"
    }
   },
   "source": [
    "## SVM"
   ]
  },
  {
   "cell_type": "code",
   "execution_count": 184,
   "metadata": {
    "autoscroll": "json-false",
    "collapsed": false,
    "ein.tags": [
     "worksheet-0"
    ],
    "slideshow": {
     "slide_type": "-"
    }
   },
   "outputs": [],
   "source": [
    "from sklearn import svm"
   ]
  },
  {
   "cell_type": "code",
   "execution_count": 185,
   "metadata": {
    "autoscroll": "json-false",
    "collapsed": false,
    "ein.tags": [
     "worksheet-0"
    ],
    "slideshow": {
     "slide_type": "-"
    }
   },
   "outputs": [
    {
     "data": {
      "text/plain": [
       "SVC(C=1.0, cache_size=200, class_weight=None, coef0=0.0,\n",
       "  decision_function_shape=None, degree=3, gamma='auto', kernel='linear',\n",
       "  max_iter=-1, probability=False, random_state=None, shrinking=True,\n",
       "  tol=0.001, verbose=False)"
      ]
     },
     "execution_count": 185,
     "metadata": {},
     "output_type": "execute_result"
    }
   ],
   "source": [
    "svc = svm.SVC(kernel= 'linear')\n",
    "svc.fit(iris_X_train, iris_y_train)"
   ]
  },
  {
   "cell_type": "code",
   "execution_count": 0,
   "metadata": {
    "autoscroll": "json-false",
    "collapsed": false,
    "ein.tags": [
     "worksheet-0"
    ],
    "slideshow": {
     "slide_type": "-"
    }
   },
   "outputs": [],
   "source": []
  }
 ],
 "metadata": {
  "kernelspec": {
   "display_name": "Python 2",
   "name": "python2"
  },
  "name": "02-2-2-1-statistical-learning.ipynb"
 },
 "nbformat": 4,
 "nbformat_minor": 2
}
